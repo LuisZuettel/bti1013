{
 "cells": [
  {
   "cell_type": "markdown",
   "metadata": {},
   "source": [
    "# Exercises\n",
    "1.  Install Python 3.11.5 or later via Miniconda (prefered solution) or another way (see slides).\n",
    "\n",
    "    **DONE**\n",
    "\n",
    "2. Install Pycharm or IntelliJ or another IDE (see slides).\n",
    "\n",
    "    **DONE**\n",
    "\n",
    "3. Create a Python project using the following Python program: sumup.py and execute it."
   ]
  },
  {
   "cell_type": "code",
   "execution_count": 28,
   "metadata": {},
   "outputs": [
    {
     "name": "stdout",
     "output_type": "stream",
     "text": [
      "sum of 1 to 100 is 5050.\n"
     ]
    }
   ],
   "source": [
    "\"sum_up.py\"\n",
    "\"\"\"A simple program that sums up numbers.\"\"\"\n",
    "\n",
    "\n",
    "def sum_up(max_num):\n",
    "    \"\"\"Returns the sum of numbers from 1 up and including max_num.\"\"\"\n",
    "    accumulator = 0\n",
    "    for i in range(1, max_num + 1):\n",
    "        accumulator += i\n",
    "    return accumulator\n",
    "\n",
    "\n",
    "def main():\n",
    "    \"\"\"Invokes sumup and prints the result.\"\"\"\n",
    "    max_num = 100\n",
    "    the_sum = sum_up(max_num)\n",
    "    print('sum of 1 to {} is {}.'.format(max_num, the_sum))\n",
    "\n",
    "\n",
    "if __name__ == '__main__':\n",
    "    main()\n"
   ]
  },
  {
   "cell_type": "markdown",
   "metadata": {},
   "source": [
    "4. Develop a python program that contains a function thath returns True if its parameter is even, False otherwise."
   ]
  },
  {
   "cell_type": "code",
   "execution_count": 29,
   "metadata": {},
   "outputs": [
    {
     "name": "stdout",
     "output_type": "stream",
     "text": [
      "False\n",
      "True\n"
     ]
    }
   ],
   "source": [
    "def is_even(val: int) -> bool:\n",
    "    return val % 2 == 0\n",
    "\n",
    "print(is_even(1))\n",
    "print(is_even(2))"
   ]
  },
  {
   "cell_type": "markdown",
   "metadata": {},
   "source": [
    "5. Develop a function that computes the area of a disc of a given radius."
   ]
  },
  {
   "cell_type": "code",
   "execution_count": 30,
   "metadata": {},
   "outputs": [
    {
     "data": {
      "text/plain": [
       "113.097"
      ]
     },
     "execution_count": 30,
     "metadata": {},
     "output_type": "execute_result"
    }
   ],
   "source": [
    "import math\n",
    "\n",
    "def calculate_area_of_disk(radius: float) -> float:\n",
    "    return round(math.pi * math.pow(radius, 2), 3)\n",
    "\n",
    "calculate_area_of_disk(6.0)"
   ]
  },
  {
   "cell_type": "markdown",
   "metadata": {},
   "source": [
    "6. Develop a function that returns the greatest vale of a list of positive numbers."
   ]
  },
  {
   "cell_type": "code",
   "execution_count": 31,
   "metadata": {},
   "outputs": [
    {
     "data": {
      "text/plain": [
       "20"
      ]
     },
     "execution_count": 31,
     "metadata": {},
     "output_type": "execute_result"
    }
   ],
   "source": [
    "from typing import List\n",
    "\n",
    "\n",
    "def get_greatest_value(numbers: List[int]) -> int:\n",
    "    highest_value = numbers[0]\n",
    "\n",
    "    for i in range(1, len(numbers)):\n",
    "        if numbers[i] > highest_value:\n",
    "            highest_value = numbers[i]\n",
    "    return highest_value\n",
    "\n",
    "get_greatest_value([20,1,2,3,4,10])"
   ]
  },
  {
   "cell_type": "markdown",
   "metadata": {},
   "source": [
    "7. Develop a function that reverses a list of elements (try to develop an iterative and a recursive solution)."
   ]
  },
  {
   "cell_type": "code",
   "execution_count": 32,
   "metadata": {},
   "outputs": [
    {
     "name": "stdout",
     "output_type": "stream",
     "text": [
      "[4, 3, 2, 1]\n",
      "[4, 3, 2, 1]\n"
     ]
    }
   ],
   "source": [
    "def reverse_iteratively(list: List) -> List:\n",
    "    reversed_list = []\n",
    "    for i in range(len(list) -1 , -1, -1):\n",
    "        reversed_list.append(list[i])\n",
    "    return reversed_list\n",
    "\n",
    "print(reverse_iteratively([1,2,3,4]))\n",
    "\n",
    "def reverse_recursively(list: List) -> List:\n",
    "    if not list:\n",
    "        return [] \n",
    "    return [list[-1]] + reverse_recursively(list[:-1])\n",
    "\n",
    "print(reverse_recursively([1,2,3,4]))    "
   ]
  },
  {
   "cell_type": "markdown",
   "metadata": {},
   "source": [
    "8. Develop a function that inserts a number into an ordered list and returns an ordered list (ascending order). This function will be used in the next exercise."
   ]
  },
  {
   "cell_type": "code",
   "execution_count": 96,
   "metadata": {},
   "outputs": [
    {
     "name": "stdout",
     "output_type": "stream",
     "text": [
      "[1, 2, 3, 4, 5, 6]\n"
     ]
    }
   ],
   "source": [
    "def insert_into_ordered_list(ordered_numbers: List[int], number : int) -> List[int]:\n",
    "    if not ordered_numbers: \n",
    "        return [number]\n",
    "    found_index = len(ordered_numbers) - 1\n",
    "    for i in range(0, len(ordered_numbers)):\n",
    "        if number > ordered_numbers[i]:\n",
    "            continue\n",
    "        found_index = i - 1\n",
    "        break\n",
    "    return ordered_numbers[:found_index + 1] + [number] + ordered_numbers[found_index+1:]\n",
    "\n",
    "print(insert_into_ordered_list([1,2,4,5,6], 3))"
   ]
  },
  {
   "cell_type": "markdown",
   "metadata": {},
   "source": [
    "9. Develop a function insertion_sort that takes an unordered list of numbers and returns an ordered list taking advantage of the previous function."
   ]
  },
  {
   "cell_type": "code",
   "execution_count": 97,
   "metadata": {},
   "outputs": [
    {
     "name": "stdout",
     "output_type": "stream",
     "text": [
      "[1, 2, 3, 4, 9, 10, 11]\n"
     ]
    }
   ],
   "source": [
    "def insertion_sort(unordered_numbers: List[int]) -> List[int]:\n",
    "    ordered_numbers = []\n",
    "    for number in unordered_numbers:\n",
    "        ordered_numbers = insert_into_ordered_list(ordered_numbers, number)\n",
    "    return ordered_numbers\n",
    "\n",
    "print(insertion_sort([9,2,1,10,3,4,11]))"
   ]
  },
  {
   "cell_type": "markdown",
   "metadata": {},
   "source": [
    "10. Develop an iterative function and a recursive one that both compute the sum of a List of integers without using any predefined functions."
   ]
  },
  {
   "cell_type": "code",
   "execution_count": 98,
   "metadata": {},
   "outputs": [
    {
     "name": "stdout",
     "output_type": "stream",
     "text": [
      "15\n"
     ]
    }
   ],
   "source": [
    "def sum_iterative(numbers: List[int]) -> int:\n",
    "    sum_value= 0\n",
    "    for number in numbers:\n",
    "        sum_value += number\n",
    "    return sum_value\n",
    "\n",
    "print(sum_iterative([1,2,3,4,5]))\n",
    "\n",
    "def sum_recursive(numbers: List[int]) -> int:\n",
    "    if not numbers:\n",
    "        return 0\n",
    "    return numbers.pop() + sum_recursive(numbers)\n",
    "\n",
    "print(sum_recursive([1,2,3,4,5]))"
   ]
  }
 ],
 "metadata": {
  "kernelspec": {
   "display_name": "Python 3",
   "language": "python",
   "name": "python3"
  },
  "language_info": {
   "codemirror_mode": {
    "name": "ipython",
    "version": 3
   },
   "file_extension": ".py",
   "mimetype": "text/x-python",
   "name": "python",
   "nbconvert_exporter": "python",
   "pygments_lexer": "ipython3",
   "version": "3.11.8"
  }
 },
 "nbformat": 4,
 "nbformat_minor": 2
}
